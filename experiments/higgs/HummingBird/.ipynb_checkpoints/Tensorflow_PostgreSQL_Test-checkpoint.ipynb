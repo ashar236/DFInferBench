{
 "cells": [
  {
   "cell_type": "code",
   "execution_count": null,
   "id": "6e362f33",
   "metadata": {},
   "outputs": [],
   "source": [
    "from sklearn.ensemble import RandomForestClassifier\n",
    "import pandas\n",
    "import pickle\n",
    "import joblib\n",
    "\n",
    "filename = 'rf-10-8-6.pkl'\n",
    "loaded_model = joblib.load(filename)"
   ]
  },
  {
   "cell_type": "code",
   "execution_count": null,
   "id": "7823c90e",
   "metadata": {},
   "outputs": [],
   "source": [
    "import psycopg2\n",
    "\n",
    "t_host = \"localhost\"\n",
    "t_port = \"5432\"\n",
    "t_dbname = \"postgres\"\n",
    "t_user = \"postgres\"\n",
    "t_pw = \"postgres\"\n",
    "db_conn = psycopg2.connect(host=t_host, port=t_port, dbname=t_dbname, user=t_user, password=t_pw)\n",
    "db_cursor = db_conn.cursor()"
   ]
  },
  {
   "cell_type": "code",
   "execution_count": null,
   "id": "caf775ef",
   "metadata": {},
   "outputs": [],
   "source": [
    "import numpy\n",
    "import time\n",
    "\n",
    "input_size = 11000000\n",
    "batch_size = 100000\n",
    "\n",
    "time_start = time.time()\n",
    "try:\n",
    "    for i in range(int(input_size/batch_size)):\n",
    "        db_cursor.execute(\"SELECT leptonpT,leptoneta,leptonphi,missingenergymagnitude,missingenergyphi,\"+\n",
    "                          \"jet1pt,jet1eta,jet1phi,jet1btag,jet2pt,jet2eta,jet2phi,jet2btag,jet3pt,jet3eta,\"+\n",
    "                          \"jet3phi,jet3btag,jet4pt,jet4eta,jet4phi,jet4btag,mjj,mjjj,mlv,mjlv,mbb,mwbb,mwwbb from higgs;\")\n",
    "        some_tuple = db_cursor.fetchmany(batch_size)\n",
    "        pred = loaded_model.predict(some_tuple)\n",
    "except psycopg2.Error as e:\n",
    "    t_message = \"Postgres Database error: \" + e + \"/n\"\n",
    "time_end=time.time()\n",
    "\n",
    "print('time cost',(time_end-time_start)*1000,'ms')"
   ]
  },
  {
   "cell_type": "code",
   "execution_count": null,
   "id": "bf59c1ea",
   "metadata": {},
   "outputs": [],
   "source": []
  }
 ],
 "metadata": {
  "kernelspec": {
   "display_name": "Python 3",
   "language": "python",
   "name": "python3"
  },
  "language_info": {
   "codemirror_mode": {
    "name": "ipython",
    "version": 3
   },
   "file_extension": ".py",
   "mimetype": "text/x-python",
   "name": "python",
   "nbconvert_exporter": "python",
   "pygments_lexer": "ipython3",
   "version": "3.8.8"
  }
 },
 "nbformat": 4,
 "nbformat_minor": 5
}
