{
 "cells": [
  {
   "cell_type": "code",
   "execution_count": 1,
   "metadata": {},
   "outputs": [
    {
     "name": "stdout",
     "output_type": "stream",
     "text": [
      "Requirement already satisfied: hummingbird_ml[extra] in /home/mahidhar/.local/lib/python3.8/site-packages (0.4.4)\n",
      "Requirement already satisfied: scikit-learn>=0.21.3 in /home/mahidhar/.local/lib/python3.8/site-packages (from hummingbird_ml[extra]) (1.0.2)\n",
      "Requirement already satisfied: onnxconverter-common>=1.6.0 in /home/mahidhar/.local/lib/python3.8/site-packages (from hummingbird_ml[extra]) (1.9.0)\n",
      "Requirement already satisfied: scipy in /home/mahidhar/.local/lib/python3.8/site-packages (from hummingbird_ml[extra]) (1.8.0)\n",
      "Requirement already satisfied: psutil in /home/mahidhar/.local/lib/python3.8/site-packages (from hummingbird_ml[extra]) (5.9.0)\n",
      "Requirement already satisfied: dill in /home/mahidhar/.local/lib/python3.8/site-packages (from hummingbird_ml[extra]) (0.3.4)\n",
      "Requirement already satisfied: torch>=1.4 in /home/mahidhar/.local/lib/python3.8/site-packages (from hummingbird_ml[extra]) (1.11.0+cu113)\n",
      "Requirement already satisfied: numpy>=1.15 in /home/mahidhar/.local/lib/python3.8/site-packages (from hummingbird_ml[extra]) (1.22.3)\n",
      "Requirement already satisfied: xgboost>=0.90; extra == \"extra\" in /home/mahidhar/.local/lib/python3.8/site-packages (from hummingbird_ml[extra]) (1.6.0)\n",
      "Requirement already satisfied: lightgbm>=2.2; extra == \"extra\" in /home/mahidhar/.local/lib/python3.8/site-packages (from hummingbird_ml[extra]) (3.3.2)\n",
      "Requirement already satisfied: prophet==1.0.1; extra == \"extra\" in /home/mahidhar/.local/lib/python3.8/site-packages (from hummingbird_ml[extra]) (1.0.1)\n",
      "Requirement already satisfied: threadpoolctl>=2.0.0 in /home/mahidhar/.local/lib/python3.8/site-packages (from scikit-learn>=0.21.3->hummingbird_ml[extra]) (3.1.0)\n",
      "Requirement already satisfied: joblib>=0.11 in /home/mahidhar/.local/lib/python3.8/site-packages (from scikit-learn>=0.21.3->hummingbird_ml[extra]) (1.1.0)\n",
      "Requirement already satisfied: protobuf in /home/mahidhar/.local/lib/python3.8/site-packages (from onnxconverter-common>=1.6.0->hummingbird_ml[extra]) (3.19.4)\n",
      "Requirement already satisfied: onnx in /home/mahidhar/.local/lib/python3.8/site-packages (from onnxconverter-common>=1.6.0->hummingbird_ml[extra]) (1.11.0)\n",
      "Requirement already satisfied: typing-extensions in /home/mahidhar/.local/lib/python3.8/site-packages (from torch>=1.4->hummingbird_ml[extra]) (4.1.1)\n",
      "Requirement already satisfied: wheel in /usr/lib/python3/dist-packages (from lightgbm>=2.2; extra == \"extra\"->hummingbird_ml[extra]) (0.34.2)\n",
      "Requirement already satisfied: Cython>=0.22 in /home/mahidhar/.local/lib/python3.8/site-packages (from prophet==1.0.1; extra == \"extra\"->hummingbird_ml[extra]) (0.29.28)\n",
      "Requirement already satisfied: LunarCalendar>=0.0.9 in /home/mahidhar/.local/lib/python3.8/site-packages (from prophet==1.0.1; extra == \"extra\"->hummingbird_ml[extra]) (0.0.9)\n",
      "Requirement already satisfied: cmdstanpy==0.9.68 in /home/mahidhar/.local/lib/python3.8/site-packages (from prophet==1.0.1; extra == \"extra\"->hummingbird_ml[extra]) (0.9.68)\n",
      "Requirement already satisfied: convertdate>=2.1.2 in /home/mahidhar/.local/lib/python3.8/site-packages (from prophet==1.0.1; extra == \"extra\"->hummingbird_ml[extra]) (2.4.0)\n",
      "Requirement already satisfied: holidays>=0.10.2 in /home/mahidhar/.local/lib/python3.8/site-packages (from prophet==1.0.1; extra == \"extra\"->hummingbird_ml[extra]) (0.13)\n",
      "Requirement already satisfied: matplotlib>=2.0.0 in /home/mahidhar/.local/lib/python3.8/site-packages (from prophet==1.0.1; extra == \"extra\"->hummingbird_ml[extra]) (3.5.1)\n",
      "Requirement already satisfied: pandas>=1.0.4 in /home/mahidhar/.local/lib/python3.8/site-packages (from prophet==1.0.1; extra == \"extra\"->hummingbird_ml[extra]) (1.4.1)\n",
      "Requirement already satisfied: pystan~=2.19.1.1 in /home/mahidhar/.local/lib/python3.8/site-packages (from prophet==1.0.1; extra == \"extra\"->hummingbird_ml[extra]) (2.19.1.1)\n",
      "Requirement already satisfied: python-dateutil>=2.8.0 in /home/mahidhar/.local/lib/python3.8/site-packages (from prophet==1.0.1; extra == \"extra\"->hummingbird_ml[extra]) (2.8.2)\n",
      "Requirement already satisfied: setuptools-git>=1.2 in /home/mahidhar/.local/lib/python3.8/site-packages (from prophet==1.0.1; extra == \"extra\"->hummingbird_ml[extra]) (1.2)\n",
      "Requirement already satisfied: tqdm>=4.36.1 in /home/mahidhar/.local/lib/python3.8/site-packages (from prophet==1.0.1; extra == \"extra\"->hummingbird_ml[extra]) (4.63.2)\n",
      "Requirement already satisfied: ephem>=3.7.5.3 in /home/mahidhar/.local/lib/python3.8/site-packages (from LunarCalendar>=0.0.9->prophet==1.0.1; extra == \"extra\"->hummingbird_ml[extra]) (4.1.3)\n",
      "Requirement already satisfied: pytz in /home/mahidhar/.local/lib/python3.8/site-packages (from LunarCalendar>=0.0.9->prophet==1.0.1; extra == \"extra\"->hummingbird_ml[extra]) (2022.1)\n",
      "Requirement already satisfied: ujson in /home/mahidhar/.local/lib/python3.8/site-packages (from cmdstanpy==0.9.68->prophet==1.0.1; extra == \"extra\"->hummingbird_ml[extra]) (5.2.0)\n",
      "Requirement already satisfied: pymeeus<=1,>=0.3.13 in /home/mahidhar/.local/lib/python3.8/site-packages (from convertdate>=2.1.2->prophet==1.0.1; extra == \"extra\"->hummingbird_ml[extra]) (0.5.11)\n",
      "Requirement already satisfied: korean-lunar-calendar in /home/mahidhar/.local/lib/python3.8/site-packages (from holidays>=0.10.2->prophet==1.0.1; extra == \"extra\"->hummingbird_ml[extra]) (0.2.1)\n",
      "Requirement already satisfied: hijri-converter in /home/mahidhar/.local/lib/python3.8/site-packages (from holidays>=0.10.2->prophet==1.0.1; extra == \"extra\"->hummingbird_ml[extra]) (2.2.3)\n",
      "Requirement already satisfied: packaging>=20.0 in /home/mahidhar/.local/lib/python3.8/site-packages (from matplotlib>=2.0.0->prophet==1.0.1; extra == \"extra\"->hummingbird_ml[extra]) (21.3)\n",
      "Requirement already satisfied: pillow>=6.2.0 in /usr/lib/python3/dist-packages (from matplotlib>=2.0.0->prophet==1.0.1; extra == \"extra\"->hummingbird_ml[extra]) (7.0.0)\n",
      "Requirement already satisfied: kiwisolver>=1.0.1 in /home/mahidhar/.local/lib/python3.8/site-packages (from matplotlib>=2.0.0->prophet==1.0.1; extra == \"extra\"->hummingbird_ml[extra]) (1.4.0)\n",
      "Requirement already satisfied: fonttools>=4.22.0 in /home/mahidhar/.local/lib/python3.8/site-packages (from matplotlib>=2.0.0->prophet==1.0.1; extra == \"extra\"->hummingbird_ml[extra]) (4.30.0)\n",
      "Requirement already satisfied: cycler>=0.10 in /home/mahidhar/.local/lib/python3.8/site-packages (from matplotlib>=2.0.0->prophet==1.0.1; extra == \"extra\"->hummingbird_ml[extra]) (0.11.0)\n",
      "Requirement already satisfied: pyparsing>=2.2.1 in /home/mahidhar/.local/lib/python3.8/site-packages (from matplotlib>=2.0.0->prophet==1.0.1; extra == \"extra\"->hummingbird_ml[extra]) (3.0.7)\n",
      "Requirement already satisfied: six>=1.5 in /usr/lib/python3/dist-packages (from python-dateutil>=2.8.0->prophet==1.0.1; extra == \"extra\"->hummingbird_ml[extra]) (1.14.0)\n"
     ]
    }
   ],
   "source": [
    "!pip install hummingbird_ml[extra]"
   ]
  },
  {
   "cell_type": "code",
   "execution_count": 2,
   "metadata": {},
   "outputs": [
    {
     "name": "stderr",
     "output_type": "stream",
     "text": [
      "/home/mahidhar/.local/lib/python3.8/site-packages/tqdm/auto.py:22: TqdmWarning: IProgress not found. Please update jupyter and ipywidgets. See https://ipywidgets.readthedocs.io/en/stable/user_install.html\n",
      "  from .autonotebook import tqdm as notebook_tqdm\n",
      "/home/mahidhar/.local/lib/python3.8/site-packages/sklearn/experimental/enable_hist_gradient_boosting.py:16: UserWarning: Since version 1.0, it is not needed to import enable_hist_gradient_boosting anymore. HistGradientBoostingClassifier and HistGradientBoostingRegressor are now stable and can be normally imported from sklearn.ensemble.\n",
      "  warnings.warn(\n",
      "Importing plotly failed. Interactive plots will not work.\n"
     ]
    }
   ],
   "source": [
    "import numpy as np\n",
    "import xgboost as xgb\n",
    "from hummingbird.ml import convert\n",
    "\n",
    "# Create some random data for binary classification.\n",
    "num_classes = 2\n",
    "X = np.random.rand(100000, 28)\n",
    "y = np.random.randint(num_classes, size=100000)"
   ]
  },
  {
   "cell_type": "code",
   "execution_count": 10,
   "metadata": {},
   "outputs": [
    {
     "data": {
      "text/plain": [
       "XGBClassifier(base_score=0.5, booster='gbtree', callbacks=None,\n",
       "              colsample_bylevel=1, colsample_bynode=1, colsample_bytree=1,\n",
       "              early_stopping_rounds=None, enable_categorical=False,\n",
       "              eval_metric=None, gamma=0, gpu_id=-1, grow_policy='depthwise',\n",
       "              importance_type=None, interaction_constraints='',\n",
       "              learning_rate=0.300000012, max_bin=256, max_cat_to_onehot=4,\n",
       "              max_delta_step=0, max_depth=8, max_leaves=0, min_child_weight=1,\n",
       "              missing=nan, monotone_constraints='()', n_estimators=10, n_jobs=0,\n",
       "              num_parallel_tree=1, predictor='auto', random_state=0,\n",
       "              reg_alpha=0, reg_lambda=1, ...)"
      ]
     },
     "execution_count": 10,
     "metadata": {},
     "output_type": "execute_result"
    }
   ],
   "source": [
    "# Create and train a model (XGBoost in this case).\n",
    "model = xgb.XGBClassifier(n_estimators = 10, max_depth=8)\n",
    "model.fit(X, y)"
   ]
  },
  {
   "cell_type": "code",
   "execution_count": 11,
   "metadata": {},
   "outputs": [],
   "source": [
    "# Use Hummingbird to convert the model to PyTorch\n",
    "# Note that XGBRegressor requires us to pass it some sample data.\n",
    "hb_model = convert(model, 'torch', X[0:1])"
   ]
  },
  {
   "cell_type": "code",
   "execution_count": 12,
   "metadata": {},
   "outputs": [
    {
     "name": "stdout",
     "output_type": "stream",
     "text": [
      "62.2 ms ± 2.88 ms per loop (mean ± std. dev. of 3 runs, 10 loops each)\n"
     ]
    }
   ],
   "source": [
    "%%timeit -r 3\n",
    "\n",
    "# Run Hummingbird on CPU - By default CPU execution is used in Hummingbird.\n",
    "hb_model.predict(X)"
   ]
  },
  {
   "cell_type": "code",
   "execution_count": 6,
   "metadata": {},
   "outputs": [
    {
     "name": "stdout",
     "output_type": "stream",
     "text": [
      "21.8 ms ± 53.8 µs per loop (mean ± std. dev. of 3 runs, 1 loop each)\n"
     ]
    }
   ],
   "source": [
    "%%timeit -r 3\n",
    "\n",
    "# Run Hummingbird on GPU (Note that you must have a GPU-enabled machine).\n",
    "hb_model.to('cuda')\n",
    "hb_model.predict(X)"
   ]
  },
  {
   "cell_type": "code",
   "execution_count": null,
   "metadata": {},
   "outputs": [],
   "source": []
  }
 ],
 "metadata": {
  "kernelspec": {
   "display_name": "Python 3 (ipykernel)",
   "language": "python",
   "name": "python3"
  },
  "language_info": {
   "codemirror_mode": {
    "name": "ipython",
    "version": 3
   },
   "file_extension": ".py",
   "mimetype": "text/x-python",
   "name": "python",
   "nbconvert_exporter": "python",
   "pygments_lexer": "ipython3",
   "version": "3.8.10"
  }
 },
 "nbformat": 4,
 "nbformat_minor": 2
}
