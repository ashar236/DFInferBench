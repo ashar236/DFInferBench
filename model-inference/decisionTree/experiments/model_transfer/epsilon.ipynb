{
 "cells": [
  {
   "cell_type": "code",
   "execution_count": null,
   "id": "c591ad8b",
   "metadata": {},
   "outputs": [],
   "source": [
    "import pandas\n",
    "import pickle\n",
    "import joblib\n",
    "from sklearn.ensemble import RandomForestClassifier\n",
    "\n",
    "filename = 'models/epsilon/rf-10-8-6.pkl'\n",
    "loaded_model = joblib.load(filename)\n",
    "\n",
    "from sklearn.tree import export_graphviz\n",
    "from IPython.display import Image\n",
    "import pydotplus\n",
    "import graphviz\n",
    "import os\n",
    "\n",
    "Estimators = loaded_model.estimators_\n",
    "for index, model in enumerate(Estimators):\n",
    "    filename = 'graphs/epsilon/epsilon_' + str(index) + '.pdf'\n",
    "    outfilename = 'graphs/epsilon/epsilon_' + str(index) + '.txt'\n",
    "    dot_data = export_graphviz(model)\n",
    "    f = open(outfilename, 'w') \n",
    "    f.write(dot_data) \n",
    "    f.close()\n",
    "    graph = pydotplus.graph_from_dot_data(dot_data)\n",
    "    #Image(graph.create_png())\n",
    "    #graph.write_pdf(filename)\n",
    "    os.system('dot -Tpdf ' + outfilename + ' -o ' + filename)"
   ]
  },
  {
   "cell_type": "code",
   "execution_count": null,
   "id": "a601b9eb",
   "metadata": {},
   "outputs": [],
   "source": [
    "import pandas as pd\n",
    "import pickle\n",
    "import joblib\n",
    "\n",
    "df = pd.read_csv('datasets/epsilon/epsilon_normalized')\n",
    "df.head()"
   ]
  },
  {
   "cell_type": "code",
   "execution_count": null,
   "id": "c8e7bfb6",
   "metadata": {},
   "outputs": [],
   "source": [
    "print (\"row,column\")\n",
    "print (df.shape[0],df.shape[1])"
   ]
  }
 ],
 "metadata": {
  "kernelspec": {
   "display_name": "Python 3",
   "language": "python",
   "name": "python3"
  },
  "language_info": {
   "codemirror_mode": {
    "name": "ipython",
    "version": 3
   },
   "file_extension": ".py",
   "mimetype": "text/x-python",
   "name": "python",
   "nbconvert_exporter": "python",
   "pygments_lexer": "ipython3",
   "version": "3.8.8"
  }
 },
 "nbformat": 4,
 "nbformat_minor": 5
}
